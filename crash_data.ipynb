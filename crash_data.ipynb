{
 "cells": [
  {
   "cell_type": "code",
   "execution_count": 1,
   "id": "5a60eced",
   "metadata": {},
   "outputs": [],
   "source": [
    "import pandas as pd\n",
    "url = 'https://one.nhtsa.gov/webapi/Default.aspx?SafetyRatings/API/5'\n",
    "df = pd.read_csv"
   ]
  },
  {
   "cell_type": "code",
   "execution_count": null,
   "id": "6707dc8b",
   "metadata": {},
   "outputs": [],
   "source": []
  },
  {
   "cell_type": "code",
   "execution_count": 2,
   "id": "3f8c7810",
   "metadata": {},
   "outputs": [
    {
     "name": "stderr",
     "output_type": "stream",
     "text": [
      "/var/folders/yz/cb5vzkt14_b8w5qbjt71pdl80000gn/T/ipykernel_2796/1316157932.py:1: FutureWarning: The error_bad_lines argument has been deprecated and will be removed in a future version. Use on_bad_lines in the future.\n",
      "\n",
      "\n",
      "  df = pd.read_csv(url, error_bad_lines=False)\n"
     ]
    }
   ],
   "source": [
    "df = pd.read_csv(url, error_bad_lines=False)"
   ]
  },
  {
   "cell_type": "code",
   "execution_count": 3,
   "id": "102b44ba",
   "metadata": {},
   "outputs": [
    {
     "data": {
      "text/plain": [
       "<bound method NDFrame.head of         Crash ID Active School Zone Flag    Case ID    City  \\\n",
       "0       16201335                      NO  180011094  AUSTIN   \n",
       "1       16209332                      NO  180010160  AUSTIN   \n",
       "2       16209332                      NO  180010160  AUSTIN   \n",
       "3       16209332                      NO  180010160  AUSTIN   \n",
       "4       17979600                      NO  180010873  AUSTIN   \n",
       "...          ...                     ...        ...     ...   \n",
       "119098  18012875                      NO  203500371  AUSTIN   \n",
       "119099  18012875                      NO  203500371  AUSTIN   \n",
       "119100  18012877                      NO  203500467  AUSTIN   \n",
       "119101  18012877                      NO  203500467  AUSTIN   \n",
       "119102  18012877                      NO  203500467  AUSTIN   \n",
       "\n",
       "       Construction Zone Flag  Crash Death Count       Crash Severity  \\\n",
       "0                          No                  0      N - NOT INJURED   \n",
       "1                          No                  0      N - NOT INJURED   \n",
       "2                          No                  0      N - NOT INJURED   \n",
       "3                          No                  0      N - NOT INJURED   \n",
       "4                          No                  0      N - NOT INJURED   \n",
       "...                       ...                ...                  ...   \n",
       "119098                     No                  0  C - POSSIBLE INJURY   \n",
       "119099                     No                  0  C - POSSIBLE INJURY   \n",
       "119100                     No                  0      N - NOT INJURED   \n",
       "119101                     No                  0      N - NOT INJURED   \n",
       "119102                     No                  0      N - NOT INJURED   \n",
       "\n",
       "        Crash Time  Crash Total Injury Count  Crash Year  ... Vehicle Make  \\\n",
       "0             1111                         0        2018  ...        HONDA   \n",
       "1               36                         0        2018  ...        HONDA   \n",
       "2               36                         0        2018  ...      HYUNDAI   \n",
       "3               36                         0        2018  ...      HYUNDAI   \n",
       "4              728                         0        2018  ...     CHRYSLER   \n",
       "...            ...                       ...         ...  ...          ...   \n",
       "119098        1015                         1        2020  ...        LEXUS   \n",
       "119099        1015                         1        2020  ...       TOYOTA   \n",
       "119100        1118                         0        2020  ...      HYUNDAI   \n",
       "119101        1118                         0        2020  ...         FORD   \n",
       "119102        1118                         0        2020  ...         FORD   \n",
       "\n",
       "        Vehicle Model Name Vehicle Model Year              Citation  \\\n",
       "0          ODYSSEY (HONDA)               2005               No Data   \n",
       "1            CIVIC (HONDA)               2013             E16001834   \n",
       "2       SANTA FE (HYUNDAI)               2011               No Data   \n",
       "3       SANTA FE (HYUNDAI)               2011               No Data   \n",
       "4           300 (CHRYSLER)               2006               No Data   \n",
       "...                    ...                ...                   ...   \n",
       "119098      ES 300 (LEXUS)               2000               No Data   \n",
       "119099      CAMRY (TOYOTA)               2011               No Data   \n",
       "119100    SONATA (HYUNDAI)               2011  E17305749, E17305749   \n",
       "119101       ESCAPE (FORD)               2013               No Data   \n",
       "119102       ESCAPE (FORD)               2013               No Data   \n",
       "\n",
       "       Person Age Person Alcohol Result Person Drug Test Result Person Gender  \\\n",
       "0              34               No Data     97 - NOT APPLICABLE    2 - FEMALE   \n",
       "1              49               No Data     97 - NOT APPLICABLE    2 - FEMALE   \n",
       "2              22               No Data     97 - NOT APPLICABLE    2 - FEMALE   \n",
       "3              48               No Data                 No Data    2 - FEMALE   \n",
       "4              21               No Data     97 - NOT APPLICABLE      1 - MALE   \n",
       "...           ...                   ...                     ...           ...   \n",
       "119098         94               No Data                 No Data      1 - MALE   \n",
       "119099         39               No Data     97 - NOT APPLICABLE      1 - MALE   \n",
       "119100         31               No Data     97 - NOT APPLICABLE      1 - MALE   \n",
       "119101         32               No Data     97 - NOT APPLICABLE      1 - MALE   \n",
       "119102          0               No Data                 No Data    2 - FEMALE   \n",
       "\n",
       "       Person Injury Severity             Person Type  \n",
       "0             N - NOT INJURED              1 - DRIVER  \n",
       "1             N - NOT INJURED              1 - DRIVER  \n",
       "2             N - NOT INJURED              1 - DRIVER  \n",
       "3             N - NOT INJURED  2 - PASSENGER/OCCUPANT  \n",
       "4             N - NOT INJURED              1 - DRIVER  \n",
       "...                       ...                     ...  \n",
       "119098        N - NOT INJURED  2 - PASSENGER/OCCUPANT  \n",
       "119099        N - NOT INJURED              1 - DRIVER  \n",
       "119100        N - NOT INJURED              1 - DRIVER  \n",
       "119101        N - NOT INJURED              1 - DRIVER  \n",
       "119102        N - NOT INJURED  2 - PASSENGER/OCCUPANT  \n",
       "\n",
       "[119103 rows x 55 columns]>"
      ]
     },
     "execution_count": 3,
     "metadata": {},
     "output_type": "execute_result"
    }
   ],
   "source": [
    "df.head"
   ]
  },
  {
   "cell_type": "code",
   "execution_count": 4,
   "id": "212956ff",
   "metadata": {},
   "outputs": [],
   "source": [
    "df.to_csv('crash_data.csv', encoding='utf-8')"
   ]
  },
  {
   "cell_type": "code",
   "execution_count": null,
   "id": "29084d70",
   "metadata": {},
   "outputs": [],
   "source": []
  }
 ],
 "metadata": {
  "kernelspec": {
   "display_name": "PythonData",
   "language": "python",
   "name": "pythondata"
  },
  "language_info": {
   "codemirror_mode": {
    "name": "ipython",
    "version": 3
   },
   "file_extension": ".py",
   "mimetype": "text/x-python",
   "name": "python",
   "nbconvert_exporter": "python",
   "pygments_lexer": "ipython3",
   "version": "3.9.12"
  }
 },
 "nbformat": 4,
 "nbformat_minor": 5
}
