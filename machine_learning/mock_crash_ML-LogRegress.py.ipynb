{
 "cells": [
  {
   "cell_type": "code",
   "execution_count": 70,
   "id": "5abcc013",
   "metadata": {},
   "outputs": [],
   "source": [
    "\n",
    " # Import our dependencies\n",
    " from sklearn.model_selection import train_test_split\n",
    " from sklearn.preprocessing import StandardScaler, OneHotEncoder\n",
    " from sklearn.linear_model import LogisticRegression\n",
    " from sklearn.metrics import accuracy_score\n",
    " import pandas as pd\n",
    " import os"
   ]
  },
  {
   "cell_type": "code",
   "execution_count": 71,
   "id": "c3b3db44",
   "metadata": {},
   "outputs": [],
   "source": [
    "mock_df = pd.read_csv(os.path.join(\"Resources\", \"crash_data.csv\"))\n",
    "    "
   ]
  },
  {
   "cell_type": "code",
   "execution_count": 72,
   "id": "28a8eca3",
   "metadata": {},
   "outputs": [
    {
     "name": "stdout",
     "output_type": "stream",
     "text": [
      "   Unnamed: 0  Crash Death Count   Crash Severity  Crash Time  \\\n",
      "0           0                  0  N - NOT INJURED        1111   \n",
      "1           1                  0  N - NOT INJURED          36   \n",
      "2           2                  0  N - NOT INJURED          36   \n",
      "3           3                  0  N - NOT INJURED          36   \n",
      "4           4                  0  N - NOT INJURED         728   \n",
      "\n",
      "   Crash Total Injury Count  Crash Year Day of Week Highway Number  \\\n",
      "0                         0        2018      MONDAY        No Data   \n",
      "1                         0        2018      MONDAY            734   \n",
      "2                         0        2018      MONDAY            734   \n",
      "3                         0        2018      MONDAY            734   \n",
      "4                         0        2018      MONDAY            734   \n",
      "\n",
      "   Highway System     Latitude  ... Vehicle Make  Vehicle Model Name  \\\n",
      "0         No Data  30.20098162  ...        HONDA     ODYSSEY (HONDA)   \n",
      "1  FARM TO MARKET  30.36856269  ...        HONDA       CIVIC (HONDA)   \n",
      "2  FARM TO MARKET  30.36856269  ...      HYUNDAI  SANTA FE (HYUNDAI)   \n",
      "3  FARM TO MARKET  30.36856269  ...      HYUNDAI  SANTA FE (HYUNDAI)   \n",
      "4  FARM TO MARKET  30.40533278  ...     CHRYSLER      300 (CHRYSLER)   \n",
      "\n",
      "  Vehicle Model Year   Citation Person Age Person Alcohol Result  \\\n",
      "0               2005    No Data         34               No Data   \n",
      "1               2013  E16001834         49               No Data   \n",
      "2               2011    No Data         22               No Data   \n",
      "3               2011    No Data         48               No Data   \n",
      "4               2006    No Data         21               No Data   \n",
      "\n",
      "  Person Drug Test Result Person Gender Person Injury Severity  \\\n",
      "0     97 - NOT APPLICABLE    2 - FEMALE        N - NOT INJURED   \n",
      "1     97 - NOT APPLICABLE    2 - FEMALE        N - NOT INJURED   \n",
      "2     97 - NOT APPLICABLE    2 - FEMALE        N - NOT INJURED   \n",
      "3                 No Data    2 - FEMALE        N - NOT INJURED   \n",
      "4     97 - NOT APPLICABLE      1 - MALE        N - NOT INJURED   \n",
      "\n",
      "              Person Type  \n",
      "0              1 - DRIVER  \n",
      "1              1 - DRIVER  \n",
      "2              1 - DRIVER  \n",
      "3  2 - PASSENGER/OCCUPANT  \n",
      "4              1 - DRIVER  \n",
      "\n",
      "[5 rows x 28 columns]\n"
     ]
    }
   ],
   "source": [
    "print(mock_df.head())"
   ]
  },
  {
   "cell_type": "code",
   "execution_count": 73,
   "id": "802b0c42",
   "metadata": {},
   "outputs": [
    {
     "name": "stdout",
     "output_type": "stream",
     "text": [
      "Index(['Unnamed: 0', 'Crash Death Count', 'Crash Severity', 'Crash Time',\n",
      "       'Crash Total Injury Count', 'Crash Year', 'Day of Week',\n",
      "       'Highway Number', 'Highway System', 'Latitude', 'Light Condition',\n",
      "       'Longitude', 'Surface Condition', 'Surface Type', 'Weather Condition',\n",
      "       'Vehicle Body Style', 'Vehicle Damage Rating 1 - Severity',\n",
      "       'Vehicle Damage Rating 2 - Severity', 'Vehicle Make',\n",
      "       'Vehicle Model Name', 'Vehicle Model Year', 'Citation', 'Person Age',\n",
      "       'Person Alcohol Result', 'Person Drug Test Result', 'Person Gender',\n",
      "       'Person Injury Severity', 'Person Type'],\n",
      "      dtype='object')\n",
      "N - NOT INJURED                  60327\n",
      "B - NON-INCAPACITATING INJURY    26841\n",
      "C - POSSIBLE INJURY              26370\n",
      "A - SUSPECTED SERIOUS INJURY      3576\n",
      "99 - UNKNOWN                      1389\n",
      "K - KILLED                         600\n",
      "Name: Crash Severity, dtype: int64\n",
      "1 - DRIVER                                           85538\n",
      "2 - PASSENGER/OCCUPANT                               29297\n",
      "4 - PEDESTRIAN                                        1376\n",
      "5 - DRIVER OF MOTORCYCLE TYPE VEHICLE                 1005\n",
      "99 - UNKNOWN                                           901\n",
      "3 - PEDALCYCLIST                                       832\n",
      "98 - OTHER (EXPLAIN IN NARRATIVE)                      101\n",
      "6 - PASSENGER/OCCUPANT ON MOTORCYCLE TYPE VEHICLE       53\n",
      "Name: Person Type, dtype: int64\n",
      "P4 - PASSENGER CAR, 4-DOOR                     64452\n",
      "SV - SPORT UTILITY VEHICLE                     18715\n",
      "PK - PICKUP                                    15453\n",
      "P2 - PASSENGER CAR, 2-DOOR                      5296\n",
      "VN - VAN                                        4161\n",
      "TR - TRUCK                                      2443\n",
      "No Data                                         2309\n",
      "BU - BUS                                        1356\n",
      "99 - UNKNOWN                                    1337\n",
      "MC - MOTORCYCLE                                 1033\n",
      "TT - TRUCK TRACTOR                               793\n",
      "98 - OTHER  (EXPLAIN IN NARRATIVE)               567\n",
      "PC - POLICE CAR/TRUCK                            526\n",
      "SB - YELLOW SCHOOL BUS                           200\n",
      "AM - AMBULANCE                                   184\n",
      "TL - TRAILER, SEMI-TRAILER, OR POLE TRAILER      146\n",
      "FT - FIRE TRUCK                                  103\n",
      "PM - POLICE MOTORCYCLE                            13\n",
      "EV - NEV-NEIGHBORHOOD ELECTRIC VEHICLE            12\n",
      "FE - FARM EQUIPMENT                                4\n",
      "Name: Vehicle Body Style, dtype: int64\n"
     ]
    }
   ],
   "source": [
    "# Preprocess the data\n",
    "print(mock_df.columns)\n",
    "print(mock_df['Crash Severity'].value_counts())\n",
    "\n",
    "print(mock_df['Person Type'].value_counts())\n",
    "\n",
    "print(mock_df['Vehicle Body Style'].value_counts())"
   ]
  },
  {
   "cell_type": "code",
   "execution_count": 74,
   "id": "3bd1171c",
   "metadata": {},
   "outputs": [
    {
     "name": "stdout",
     "output_type": "stream",
     "text": [
      "    Crash Severity Person Age Person Gender             Person Type  \\\n",
      "0  N - NOT INJURED         34    2 - FEMALE              1 - DRIVER   \n",
      "1  N - NOT INJURED         49    2 - FEMALE              1 - DRIVER   \n",
      "2  N - NOT INJURED         22    2 - FEMALE              1 - DRIVER   \n",
      "3  N - NOT INJURED         48    2 - FEMALE  2 - PASSENGER/OCCUPANT   \n",
      "4  N - NOT INJURED         21      1 - MALE              1 - DRIVER   \n",
      "\n",
      "  Vehicle Model Year          Vehicle Body Style Vehicle Make  \n",
      "0               2005                    VN - VAN        HONDA  \n",
      "1               2013  P4 - PASSENGER CAR, 4-DOOR        HONDA  \n",
      "2               2011  P4 - PASSENGER CAR, 4-DOOR      HYUNDAI  \n",
      "3               2011  P4 - PASSENGER CAR, 4-DOOR      HYUNDAI  \n",
      "4               2006  P4 - PASSENGER CAR, 4-DOOR     CHRYSLER  \n",
      "(119103, 7)\n"
     ]
    }
   ],
   "source": [
    "\n",
    " # Select features and output columns\n",
    " mock_df = mock_df[['Crash Severity', 'Person Age', 'Person Gender', 'Person Type', 'Vehicle Model Year', 'Vehicle Body Style', 'Vehicle Make']]\n",
    " print(mock_df.head())\n",
    "\n",
    " print(mock_df.shape)\n",
    "\n"
   ]
  },
  {
   "cell_type": "code",
   "execution_count": 10,
   "id": "15ba02fd",
   "metadata": {},
   "outputs": [
    {
     "name": "stdout",
     "output_type": "stream",
     "text": [
      "(117714, 7)\n",
      "(86279, 7)\n",
      "P4 - PASSENGER CAR, 4-DOOR                47653\n",
      "SV - SPORT UTILITY VEHICLE                13090\n",
      "PK - PICKUP                               11660\n",
      "P2 - PASSENGER CAR, 2-DOOR                 4244\n",
      "VN - VAN                                   2636\n",
      "TR - TRUCK                                 1952\n",
      "99 - UNKNOWN                               1059\n",
      "MC - MOTORCYCLE                             972\n",
      "No Data                                     831\n",
      "TT - TRUCK TRACTOR                          738\n",
      "98 - OTHER  (EXPLAIN IN NARRATIVE)          445\n",
      "PC - POLICE CAR/TRUCK                       430\n",
      "BU - BUS                                    396\n",
      "AM - AMBULANCE                               88\n",
      "FT - FIRE TRUCK                              33\n",
      "SB - YELLOW SCHOOL BUS                       26\n",
      "PM - POLICE MOTORCYCLE                       13\n",
      "EV - NEV-NEIGHBORHOOD ELECTRIC VEHICLE        9\n",
      "FE - FARM EQUIPMENT                           4\n",
      "Name: Vehicle Body Style, dtype: int64\n"
     ]
    }
   ],
   "source": [
    "\n",
    " # Drop rows with Unknown\n",
    " mock_df = mock_df[mock_df['Crash Severity'] != \"99 - UNKNOWN\"]\n",
    " print(mock_df.shape)\n",
    "\n",
    " mock_df = mock_df[(mock_df['Person Type'] != \"2 - PASSENGER/OCCUPANT\") & (mock_df['Person Type'] != \"4 - PEDESTRIAN\") & (mock_df['Person Type'] != \"99 - UNKNOWN\") & (mock_df['Person Type'] != \"98 - OTHER (EXPLAIN IN NARRATIVE)\") & (mock_df['Person Type'] != \"6 - PASSENGER/OCCUPANT ON MOTORCYCLE TYPE VEHICLE\")]\n",
    " print(mock_df.shape)\n",
    "\n",
    " print(mock_df['Vehicle Body Style'].value_counts())\n",
    "\n"
   ]
  },
  {
   "cell_type": "code",
   "execution_count": 11,
   "id": "c97bcc06",
   "metadata": {},
   "outputs": [
    {
     "name": "stdout",
     "output_type": "stream",
     "text": [
      "(83931, 7)\n",
      "    Crash Severity Person Age Person Gender Person Type Vehicle Model Year  \\\n",
      "0  N - NOT INJURED         34    2 - FEMALE  1 - DRIVER               2005   \n",
      "1  N - NOT INJURED         49    2 - FEMALE  1 - DRIVER               2013   \n",
      "2  N - NOT INJURED         22    2 - FEMALE  1 - DRIVER               2011   \n",
      "4  N - NOT INJURED         21      1 - MALE  1 - DRIVER               2006   \n",
      "5  N - NOT INJURED         45      1 - MALE  1 - DRIVER               2001   \n",
      "\n",
      "           Vehicle Body Style Vehicle Make  \n",
      "0                    VN - VAN        HONDA  \n",
      "1  P4 - PASSENGER CAR, 4-DOOR        HONDA  \n",
      "2  P4 - PASSENGER CAR, 4-DOOR      HYUNDAI  \n",
      "4  P4 - PASSENGER CAR, 4-DOOR     CHRYSLER  \n",
      "5  P4 - PASSENGER CAR, 4-DOOR        MAZDA  \n",
      "                  Crash Severity Person Age Person Gender Person Type  \\\n",
      "0                N - NOT INJURED         34    2 - FEMALE  1 - DRIVER   \n",
      "2                N - NOT INJURED         22    2 - FEMALE  1 - DRIVER   \n",
      "4                N - NOT INJURED         21      1 - MALE  1 - DRIVER   \n",
      "5                N - NOT INJURED         45      1 - MALE  1 - DRIVER   \n",
      "6  B - NON-INCAPACITATING INJURY         41      1 - MALE  1 - DRIVER   \n",
      "\n",
      "  Vehicle Model Year          Vehicle Body Style  \n",
      "0               2005                    VN - VAN  \n",
      "2               2011  P4 - PASSENGER CAR, 4-DOOR  \n",
      "4               2006  P4 - PASSENGER CAR, 4-DOOR  \n",
      "5               2001  P4 - PASSENGER CAR, 4-DOOR  \n",
      "6               2006  P4 - PASSENGER CAR, 4-DOOR  \n",
      "                  Crash Severity Person Age Person Gender Person Type  \\\n",
      "0                N - NOT INJURED         34        FEMALE      DRIVER   \n",
      "2                N - NOT INJURED         22        FEMALE      DRIVER   \n",
      "4                N - NOT INJURED         21          MALE      DRIVER   \n",
      "5                N - NOT INJURED         45          MALE      DRIVER   \n",
      "6  B - NON-INCAPACITATING INJURY         41          MALE      DRIVER   \n",
      "\n",
      "  Vehicle Model Year          Vehicle Body Style  \n",
      "0               2005                    VN - VAN  \n",
      "2               2011  P4 - PASSENGER CAR, 4-DOOR  \n",
      "4               2006  P4 - PASSENGER CAR, 4-DOOR  \n",
      "5               2001  P4 - PASSENGER CAR, 4-DOOR  \n",
      "6               2006  P4 - PASSENGER CAR, 4-DOOR  \n",
      "0    81337\n",
      "1     2593\n",
      "Name: Crash Severity, dtype: int64\n",
      "  Crash Severity Person Age Person Gender Person Type Vehicle Model Year  \\\n",
      "0              0         34        FEMALE      DRIVER               2005   \n",
      "2              0         22        FEMALE      DRIVER               2011   \n",
      "4              0         21          MALE      DRIVER               2006   \n",
      "5              0         45          MALE      DRIVER               2001   \n",
      "6              0         41          MALE      DRIVER               2006   \n",
      "\n",
      "           Vehicle Body Style  \n",
      "0                    VN - VAN  \n",
      "2  P4 - PASSENGER CAR, 4-DOOR  \n",
      "4  P4 - PASSENGER CAR, 4-DOOR  \n",
      "5  P4 - PASSENGER CAR, 4-DOOR  \n",
      "6  P4 - PASSENGER CAR, 4-DOOR  \n",
      "Crash Severity        object\n",
      "Person Age            object\n",
      "Person Gender         object\n",
      "Person Type           object\n",
      "Vehicle Model Year    object\n",
      "Vehicle Body Style    object\n",
      "dtype: object\n",
      "2015    6615\n",
      "2016    6319\n",
      "2014    5913\n",
      "2013    5898\n",
      "2017    5868\n",
      "        ... \n",
      "1940       1\n",
      "1951       1\n",
      "1948       1\n",
      "1968       1\n",
      "1955       1\n",
      "Name: Vehicle Model Year, Length: 67, dtype: int64\n",
      "(83930, 6)\n",
      "(82997, 6)\n",
      "(81698, 6)\n",
      "Crash Severity         int64\n",
      "Person Age             int64\n",
      "Person Gender         object\n",
      "Person Type           object\n",
      "Vehicle Model Year     int64\n",
      "Vehicle Body Style    object\n",
      "dtype: object\n",
      "   Crash Severity  Person Age Person Gender Person Type  Vehicle Model Year  \\\n",
      "0               0          34        FEMALE      DRIVER                2005   \n",
      "2               0          22        FEMALE      DRIVER                2011   \n",
      "4               0          21          MALE      DRIVER                2006   \n",
      "5               0          45          MALE      DRIVER                2001   \n",
      "6               0          41          MALE      DRIVER                2006   \n",
      "\n",
      "           Vehicle Body Style  \n",
      "0                    VN - VAN  \n",
      "2  P4 - PASSENGER CAR, 4-DOOR  \n",
      "4  P4 - PASSENGER CAR, 4-DOOR  \n",
      "5  P4 - PASSENGER CAR, 4-DOOR  \n",
      "6  P4 - PASSENGER CAR, 4-DOOR  \n",
      "(81632, 6)\n"
     ]
    }
   ],
   "source": [
    "\n",
    " # Clean Vehicle ody Style column\n",
    " mock_df = mock_df[(mock_df['Vehicle Body Style'] != \"99 - UNKNOWN\") & (mock_df['Vehicle Body Style'] != \"No Data\") & (mock_df['Vehicle Body Style'] != \"98 - OTHER  (EXPLAIN IN NARRATIVE)\") & (mock_df['Vehicle Body Style'] != \"EV - NEV-NEIGHBORHOOD ELECTRIC VEHICLE\") & (mock_df['Vehicle Body Style'] != \"FE - FARM EQUIPMENT\")]\n",
    " print(mock_df.shape)\n",
    "\n",
    " print(mock_df.head())\n",
    "\n",
    " mock_df = mock_df.drop(columns=['Vehicle Make'], index=1)\n",
    " print(mock_df.head())\n",
    "\n",
    " mock_df.loc[mock_df['Person Gender'] == \"2 - FEMALE\", 'Person Gender'] = \"FEMALE\"\n",
    "\n",
    " mock_df.loc[mock_df['Person Gender'] == \"1 - MALE\", 'Person Gender'] = \"MALE\"\n",
    "\n",
    " mock_df.loc[mock_df['Person Type'] == \"1 - DRIVER\", 'Person Type'] = \"DRIVER\"\n",
    " mock_df.loc[mock_df['Person Type'] == \"5 - DRIVER OF MOTORCYCLE TYPE VEHICLE\", 'Person Type'] = \"MOTORCYCLE DRIVER\"\n",
    " mock_df.loc[mock_df['Person Type'] == \"3 - PEDALCYCLIST\", 'Person Type'] = \"PEDALCYCLIST\"\n",
    "\n",
    "\n",
    " print(mock_df.head())\n",
    "\n",
    "\n",
    " mock_df.loc[(mock_df['Crash Severity'] == \"N - NOT INJURED\") | (mock_df['Crash Severity'] == \"B - NON-INCAPACITATING INJURY\") | (mock_df['Crash Severity'] == \"C - POSSIBLE INJURY\"), 'Crash Severity'] = 0\n",
    "\n",
    "\n",
    " mock_df.loc[(mock_df['Crash Severity'] == \"A - SUSPECTED SERIOUS INJURY\") | (mock_df['Crash Severity'] == \"K - KILLED\"), 'Crash Severity'] = 1\n",
    "\n",
    "\n",
    " print(mock_df['Crash Severity'].value_counts())\n",
    "\n",
    "\n",
    " print(mock_df.head())\n",
    "\n",
    " print(mock_df.dtypes)\n",
    "\n",
    " mock_df[\"Crash Severity\"] = mock_df[\"Crash Severity\"].astype(int)\n",
    "\n",
    " print(mock_df['Vehicle Model Year'].value_counts())\n",
    "\n",
    " print(mock_df.shape)\n",
    "\n",
    " mock_df = mock_df[mock_df['Vehicle Model Year'] != \"No Data\"]\n",
    " print(mock_df.shape)\n",
    "\n",
    " mock_df = mock_df[mock_df['Person Age'] != \"No Data\"]\n",
    " print(mock_df.shape)\n",
    "\n",
    " mock_df[\"Person Age\"] = mock_df[\"Person Age\"].astype(int)\n",
    " mock_df[\"Vehicle Model Year\"] = mock_df[\"Vehicle Model Year\"].astype(int)\n",
    "\n",
    " print(mock_df.dtypes)\n",
    "\n",
    " print(mock_df.head())\n",
    "\n",
    " mock_df = mock_df[mock_df['Person Gender'] != \"99 - UNKNOWN\"]\n",
    " print(mock_df.shape)\n",
    "\n"
   ]
  },
  {
   "cell_type": "code",
   "execution_count": 13,
   "id": "97dd68e5",
   "metadata": {},
   "outputs": [],
   "source": [
    " # Generate our categorical variable lists\n",
    " feat_cat = [\"Person Gender\", \"Person Type\", \"Vehicle Body Style\"]\n",
    "\n"
   ]
  },
  {
   "cell_type": "code",
   "execution_count": 14,
   "id": "61e427e0",
   "metadata": {},
   "outputs": [],
   "source": [
    " # Create a OneHotEncoder instance\n",
    " enc = OneHotEncoder(sparse=False)\n",
    "\n"
   ]
  },
  {
   "cell_type": "code",
   "execution_count": 15,
   "id": "547bec6d",
   "metadata": {},
   "outputs": [],
   "source": [
    " # Fit and transform the OneHotEncoder using the categorical variable list\n",
    " encode_df = pd.DataFrame(enc.fit_transform(mock_df[feat_cat]))\n",
    "\n"
   ]
  },
  {
   "cell_type": "code",
   "execution_count": 16,
   "id": "89430fd2",
   "metadata": {},
   "outputs": [
    {
     "name": "stdout",
     "output_type": "stream",
     "text": [
      "   Person Gender_FEMALE  Person Gender_MALE  Person Type_DRIVER  \\\n",
      "0                   1.0                 0.0                 1.0   \n",
      "1                   1.0                 0.0                 1.0   \n",
      "2                   0.0                 1.0                 1.0   \n",
      "3                   0.0                 1.0                 1.0   \n",
      "4                   0.0                 1.0                 1.0   \n",
      "\n",
      "   Person Type_MOTORCYCLE DRIVER  Vehicle Body Style_AM - AMBULANCE  \\\n",
      "0                            0.0                                0.0   \n",
      "1                            0.0                                0.0   \n",
      "2                            0.0                                0.0   \n",
      "3                            0.0                                0.0   \n",
      "4                            0.0                                0.0   \n",
      "\n",
      "   Vehicle Body Style_BU - BUS  Vehicle Body Style_FT - FIRE TRUCK  \\\n",
      "0                          0.0                                 0.0   \n",
      "1                          0.0                                 0.0   \n",
      "2                          0.0                                 0.0   \n",
      "3                          0.0                                 0.0   \n",
      "4                          0.0                                 0.0   \n",
      "\n",
      "   Vehicle Body Style_MC - MOTORCYCLE  \\\n",
      "0                                 0.0   \n",
      "1                                 0.0   \n",
      "2                                 0.0   \n",
      "3                                 0.0   \n",
      "4                                 0.0   \n",
      "\n",
      "   Vehicle Body Style_P2 - PASSENGER CAR, 2-DOOR  \\\n",
      "0                                            0.0   \n",
      "1                                            0.0   \n",
      "2                                            0.0   \n",
      "3                                            0.0   \n",
      "4                                            0.0   \n",
      "\n",
      "   Vehicle Body Style_P4 - PASSENGER CAR, 4-DOOR  \\\n",
      "0                                            0.0   \n",
      "1                                            1.0   \n",
      "2                                            1.0   \n",
      "3                                            1.0   \n",
      "4                                            1.0   \n",
      "\n",
      "   Vehicle Body Style_PC - POLICE CAR/TRUCK  Vehicle Body Style_PK - PICKUP  \\\n",
      "0                                       0.0                             0.0   \n",
      "1                                       0.0                             0.0   \n",
      "2                                       0.0                             0.0   \n",
      "3                                       0.0                             0.0   \n",
      "4                                       0.0                             0.0   \n",
      "\n",
      "   Vehicle Body Style_PM - POLICE MOTORCYCLE  \\\n",
      "0                                        0.0   \n",
      "1                                        0.0   \n",
      "2                                        0.0   \n",
      "3                                        0.0   \n",
      "4                                        0.0   \n",
      "\n",
      "   Vehicle Body Style_SB - YELLOW SCHOOL BUS  \\\n",
      "0                                        0.0   \n",
      "1                                        0.0   \n",
      "2                                        0.0   \n",
      "3                                        0.0   \n",
      "4                                        0.0   \n",
      "\n",
      "   Vehicle Body Style_SV - SPORT UTILITY VEHICLE  \\\n",
      "0                                            0.0   \n",
      "1                                            0.0   \n",
      "2                                            0.0   \n",
      "3                                            0.0   \n",
      "4                                            0.0   \n",
      "\n",
      "   Vehicle Body Style_TR - TRUCK  Vehicle Body Style_TT - TRUCK TRACTOR  \\\n",
      "0                            0.0                                    0.0   \n",
      "1                            0.0                                    0.0   \n",
      "2                            0.0                                    0.0   \n",
      "3                            0.0                                    0.0   \n",
      "4                            0.0                                    0.0   \n",
      "\n",
      "   Vehicle Body Style_VN - VAN  \n",
      "0                          1.0  \n",
      "1                          0.0  \n",
      "2                          0.0  \n",
      "3                          0.0  \n",
      "4                          0.0  \n"
     ]
    },
    {
     "name": "stderr",
     "output_type": "stream",
     "text": [
      "/Users/morriscomia/opt/anaconda3/lib/python3.9/site-packages/sklearn/utils/deprecation.py:87: FutureWarning: Function get_feature_names is deprecated; get_feature_names is deprecated in 1.0 and will be removed in 1.2. Please use get_feature_names_out instead.\n",
      "  warnings.warn(msg, category=FutureWarning)\n"
     ]
    }
   ],
   "source": [
    " # Add the encoded variable names to the dataframe\n",
    " encode_df.columns = enc.get_feature_names(feat_cat)\n",
    " print(encode_df.head())\n",
    "\n"
   ]
  },
  {
   "cell_type": "code",
   "execution_count": 17,
   "id": "4196f9bc",
   "metadata": {},
   "outputs": [
    {
     "name": "stdout",
     "output_type": "stream",
     "text": [
      "   Crash Severity  Person Age  Vehicle Model Year  Person Gender_FEMALE  \\\n",
      "0               0          34                2005                   1.0   \n",
      "2               0          22                2011                   0.0   \n",
      "4               0          21                2006                   0.0   \n",
      "5               0          45                2001                   1.0   \n",
      "6               0          41                2006                   1.0   \n",
      "\n",
      "   Person Gender_MALE  Person Type_DRIVER  Person Type_MOTORCYCLE DRIVER  \\\n",
      "0                 0.0                 1.0                            0.0   \n",
      "2                 1.0                 1.0                            0.0   \n",
      "4                 1.0                 1.0                            0.0   \n",
      "5                 0.0                 1.0                            0.0   \n",
      "6                 0.0                 1.0                            0.0   \n",
      "\n",
      "   Vehicle Body Style_AM - AMBULANCE  Vehicle Body Style_BU - BUS  \\\n",
      "0                                0.0                          0.0   \n",
      "2                                0.0                          0.0   \n",
      "4                                0.0                          0.0   \n",
      "5                                0.0                          0.0   \n",
      "6                                0.0                          0.0   \n",
      "\n",
      "   Vehicle Body Style_FT - FIRE TRUCK  ...  \\\n",
      "0                                 0.0  ...   \n",
      "2                                 0.0  ...   \n",
      "4                                 0.0  ...   \n",
      "5                                 0.0  ...   \n",
      "6                                 0.0  ...   \n",
      "\n",
      "   Vehicle Body Style_P2 - PASSENGER CAR, 2-DOOR  \\\n",
      "0                                            0.0   \n",
      "2                                            0.0   \n",
      "4                                            0.0   \n",
      "5                                            0.0   \n",
      "6                                            0.0   \n",
      "\n",
      "   Vehicle Body Style_P4 - PASSENGER CAR, 4-DOOR  \\\n",
      "0                                            0.0   \n",
      "2                                            1.0   \n",
      "4                                            1.0   \n",
      "5                                            1.0   \n",
      "6                                            0.0   \n",
      "\n",
      "   Vehicle Body Style_PC - POLICE CAR/TRUCK  Vehicle Body Style_PK - PICKUP  \\\n",
      "0                                       0.0                             0.0   \n",
      "2                                       0.0                             0.0   \n",
      "4                                       0.0                             0.0   \n",
      "5                                       0.0                             0.0   \n",
      "6                                       0.0                             0.0   \n",
      "\n",
      "   Vehicle Body Style_PM - POLICE MOTORCYCLE  \\\n",
      "0                                        0.0   \n",
      "2                                        0.0   \n",
      "4                                        0.0   \n",
      "5                                        0.0   \n",
      "6                                        0.0   \n",
      "\n",
      "   Vehicle Body Style_SB - YELLOW SCHOOL BUS  \\\n",
      "0                                        0.0   \n",
      "2                                        0.0   \n",
      "4                                        0.0   \n",
      "5                                        0.0   \n",
      "6                                        0.0   \n",
      "\n",
      "   Vehicle Body Style_SV - SPORT UTILITY VEHICLE  \\\n",
      "0                                            0.0   \n",
      "2                                            0.0   \n",
      "4                                            0.0   \n",
      "5                                            0.0   \n",
      "6                                            1.0   \n",
      "\n",
      "   Vehicle Body Style_TR - TRUCK  Vehicle Body Style_TT - TRUCK TRACTOR  \\\n",
      "0                            0.0                                    0.0   \n",
      "2                            0.0                                    0.0   \n",
      "4                            0.0                                    0.0   \n",
      "5                            0.0                                    0.0   \n",
      "6                            0.0                                    0.0   \n",
      "\n",
      "   Vehicle Body Style_VN - VAN  \n",
      "0                          1.0  \n",
      "2                          0.0  \n",
      "4                          0.0  \n",
      "5                          0.0  \n",
      "6                          0.0  \n",
      "\n",
      "[5 rows x 21 columns]\n"
     ]
    }
   ],
   "source": [
    " # Merge one-hot encoded features and drop the originals\n",
    " mock_df = mock_df.merge(encode_df, left_index=True, right_index=True).drop(columns=feat_cat, axis=1)\n",
    " print(mock_df.head())\n",
    "\n"
   ]
  },
  {
   "cell_type": "code",
   "execution_count": 20,
   "id": "1ecaa3fb",
   "metadata": {},
   "outputs": [],
   "source": [
    " # Split our preprocessed data into our features and target arrays\n",
    " # y=0 for no or low injury and y=1 for serious injury or fatality\n",
    " y = mock_df[\"Crash Severity\"]\n",
    " X = mock_df.drop(\"Crash Severity\", axis=1)\n",
    "\n",
    " # Split thepreprocessed data into a training and testing dataset \n",
    "X_train, X_test, y_train, y_test = train_test_split(X, y, random_state=0, stratify=y)\n",
    "\n",
    "   "
   ]
  },
  {
   "cell_type": "code",
   "execution_count": 21,
   "id": "a1a8ce5e",
   "metadata": {},
   "outputs": [],
   "source": [
    " # Create a StandardScaler instances\n",
    " scaler = StandardScaler()\n",
    "\n",
    " # Fit the StandardScaler\n",
    " X_scaler = scaler.fit(X_train)\n",
    "\n",
    " # Scale the data\n",
    " X_train_scaled = X_scaler.transform(X_train)\n",
    " X_test_scaled = X_scaler.transform(X_test)\n",
    "\n",
    "\n"
   ]
  },
  {
   "cell_type": "code",
   "execution_count": 23,
   "id": "8ff4a329",
   "metadata": {},
   "outputs": [
    {
     "data": {
      "text/html": [
       "<style>#sk-container-id-1 {color: black;background-color: white;}#sk-container-id-1 pre{padding: 0;}#sk-container-id-1 div.sk-toggleable {background-color: white;}#sk-container-id-1 label.sk-toggleable__label {cursor: pointer;display: block;width: 100%;margin-bottom: 0;padding: 0.3em;box-sizing: border-box;text-align: center;}#sk-container-id-1 label.sk-toggleable__label-arrow:before {content: \"▸\";float: left;margin-right: 0.25em;color: #696969;}#sk-container-id-1 label.sk-toggleable__label-arrow:hover:before {color: black;}#sk-container-id-1 div.sk-estimator:hover label.sk-toggleable__label-arrow:before {color: black;}#sk-container-id-1 div.sk-toggleable__content {max-height: 0;max-width: 0;overflow: hidden;text-align: left;background-color: #f0f8ff;}#sk-container-id-1 div.sk-toggleable__content pre {margin: 0.2em;color: black;border-radius: 0.25em;background-color: #f0f8ff;}#sk-container-id-1 input.sk-toggleable__control:checked~div.sk-toggleable__content {max-height: 200px;max-width: 100%;overflow: auto;}#sk-container-id-1 input.sk-toggleable__control:checked~label.sk-toggleable__label-arrow:before {content: \"▾\";}#sk-container-id-1 div.sk-estimator input.sk-toggleable__control:checked~label.sk-toggleable__label {background-color: #d4ebff;}#sk-container-id-1 div.sk-label input.sk-toggleable__control:checked~label.sk-toggleable__label {background-color: #d4ebff;}#sk-container-id-1 input.sk-hidden--visually {border: 0;clip: rect(1px 1px 1px 1px);clip: rect(1px, 1px, 1px, 1px);height: 1px;margin: -1px;overflow: hidden;padding: 0;position: absolute;width: 1px;}#sk-container-id-1 div.sk-estimator {font-family: monospace;background-color: #f0f8ff;border: 1px dotted black;border-radius: 0.25em;box-sizing: border-box;margin-bottom: 0.5em;}#sk-container-id-1 div.sk-estimator:hover {background-color: #d4ebff;}#sk-container-id-1 div.sk-parallel-item::after {content: \"\";width: 100%;border-bottom: 1px solid gray;flex-grow: 1;}#sk-container-id-1 div.sk-label:hover label.sk-toggleable__label {background-color: #d4ebff;}#sk-container-id-1 div.sk-serial::before {content: \"\";position: absolute;border-left: 1px solid gray;box-sizing: border-box;top: 0;bottom: 0;left: 50%;z-index: 0;}#sk-container-id-1 div.sk-serial {display: flex;flex-direction: column;align-items: center;background-color: white;padding-right: 0.2em;padding-left: 0.2em;position: relative;}#sk-container-id-1 div.sk-item {position: relative;z-index: 1;}#sk-container-id-1 div.sk-parallel {display: flex;align-items: stretch;justify-content: center;background-color: white;position: relative;}#sk-container-id-1 div.sk-item::before, #sk-container-id-1 div.sk-parallel-item::before {content: \"\";position: absolute;border-left: 1px solid gray;box-sizing: border-box;top: 0;bottom: 0;left: 50%;z-index: -1;}#sk-container-id-1 div.sk-parallel-item {display: flex;flex-direction: column;z-index: 1;position: relative;background-color: white;}#sk-container-id-1 div.sk-parallel-item:first-child::after {align-self: flex-end;width: 50%;}#sk-container-id-1 div.sk-parallel-item:last-child::after {align-self: flex-start;width: 50%;}#sk-container-id-1 div.sk-parallel-item:only-child::after {width: 0;}#sk-container-id-1 div.sk-dashed-wrapped {border: 1px dashed gray;margin: 0 0.4em 0.5em 0.4em;box-sizing: border-box;padding-bottom: 0.4em;background-color: white;}#sk-container-id-1 div.sk-label label {font-family: monospace;font-weight: bold;display: inline-block;line-height: 1.2em;}#sk-container-id-1 div.sk-label-container {text-align: center;}#sk-container-id-1 div.sk-container {/* jupyter's `normalize.less` sets `[hidden] { display: none; }` but bootstrap.min.css set `[hidden] { display: none !important; }` so we also need the `!important` here to be able to override the default hidden behavior on the sphinx rendered scikit-learn.org. See: https://github.com/scikit-learn/scikit-learn/issues/21755 */display: inline-block !important;position: relative;}#sk-container-id-1 div.sk-text-repr-fallback {display: none;}</style><div id=\"sk-container-id-1\" class=\"sk-top-container\"><div class=\"sk-text-repr-fallback\"><pre>LogisticRegression(max_iter=200)</pre><b>In a Jupyter environment, please rerun this cell to show the HTML representation or trust the notebook. <br />On GitHub, the HTML representation is unable to render, please try loading this page with nbviewer.org.</b></div><div class=\"sk-container\" hidden><div class=\"sk-item\"><div class=\"sk-estimator sk-toggleable\"><input class=\"sk-toggleable__control sk-hidden--visually\" id=\"sk-estimator-id-1\" type=\"checkbox\" checked><label for=\"sk-estimator-id-1\" class=\"sk-toggleable__label sk-toggleable__label-arrow\">LogisticRegression</label><div class=\"sk-toggleable__content\"><pre>LogisticRegression(max_iter=200)</pre></div></div></div></div></div>"
      ],
      "text/plain": [
       "LogisticRegression(max_iter=200)"
      ]
     },
     "execution_count": 23,
     "metadata": {},
     "output_type": "execute_result"
    }
   ],
   "source": [
    "\n",
    "### Logistic Regression Classifier\n",
    "\n",
    "# Define the logistic regression model\n",
    "log_classifier = LogisticRegression(solver=\"lbfgs\", max_iter=200)\n",
    "\n",
    "# Train the model\n",
    "log_classifier.fit(X_train_scaled, y_train)\n",
    "\n"
   ]
  },
  {
   "cell_type": "code",
   "execution_count": 26,
   "id": "1675bc8a",
   "metadata": {},
   "outputs": [
    {
     "name": "stdout",
     "output_type": "stream",
     "text": [
      " Logistic regression model accuracy: 0.969\n",
      "   Prediction  Actual\n",
      "0           0       0\n",
      "1           0       0\n",
      "2           0       0\n",
      "3           0       0\n",
      "4           0       0\n",
      "5           0       1\n"
     ]
    }
   ],
   "source": [
    "# Evaluate the model\n",
    "y_pred = log_classifier.predict(X_test_scaled)\n",
    "print(f\" Logistic regression model accuracy: {accuracy_score(y_test, y_pred):.3f}\")\n",
    "\n",
    "results = pd.DataFrame({\"Prediction\": y_pred, \"Actual\": y_test}).reset_index(drop=True)\n",
    "print(results.head(6))\n",
    "\n",
    "\n",
    "from sklearn.metrics import confusion_matrix, classification_report\n",
    "\n"
   ]
  },
  {
   "cell_type": "code",
   "execution_count": 27,
   "id": "af2018c6",
   "metadata": {},
   "outputs": [
    {
     "name": "stdout",
     "output_type": "stream",
     "text": [
      "Classification Report\n",
      "              precision    recall  f1-score   support\n",
      "\n",
      "           0       0.97      1.00      0.98     13617\n",
      "           1       0.00      0.00      0.00       434\n",
      "\n",
      "    accuracy                           0.97     14051\n",
      "   macro avg       0.48      0.50      0.49     14051\n",
      "weighted avg       0.94      0.97      0.95     14051\n",
      "\n"
     ]
    },
    {
     "name": "stderr",
     "output_type": "stream",
     "text": [
      "/Users/morriscomia/opt/anaconda3/lib/python3.9/site-packages/sklearn/metrics/_classification.py:1327: UndefinedMetricWarning: Precision and F-score are ill-defined and being set to 0.0 in labels with no predicted samples. Use `zero_division` parameter to control this behavior.\n",
      "  _warn_prf(average, modifier, msg_start, len(result))\n",
      "/Users/morriscomia/opt/anaconda3/lib/python3.9/site-packages/sklearn/metrics/_classification.py:1327: UndefinedMetricWarning: Precision and F-score are ill-defined and being set to 0.0 in labels with no predicted samples. Use `zero_division` parameter to control this behavior.\n",
      "  _warn_prf(average, modifier, msg_start, len(result))\n",
      "/Users/morriscomia/opt/anaconda3/lib/python3.9/site-packages/sklearn/metrics/_classification.py:1327: UndefinedMetricWarning: Precision and F-score are ill-defined and being set to 0.0 in labels with no predicted samples. Use `zero_division` parameter to control this behavior.\n",
      "  _warn_prf(average, modifier, msg_start, len(result))\n"
     ]
    }
   ],
   "source": [
    " # Calculating the confusion matrix.\n",
    " cm = confusion_matrix(y_test, y_pred)\n",
    "\n",
    " # Create a DataFrame from the confusion matrix.\n",
    " cm_df = pd.DataFrame(\n",
    "     cm, index=[\"Actual 0\", \"Actual 1\"], columns=[\"Predicted 0\", \"Predicted 1\"])\n",
    "\n",
    " cm_df\n",
    "\n",
    " print(\"Classification Report\")\n",
    " print(classification_report(y_test, y_pred))\n",
    "\n"
   ]
  },
  {
   "cell_type": "code",
   "execution_count": 29,
   "id": "fae2ad22",
   "metadata": {},
   "outputs": [
    {
     "name": "stdout",
     "output_type": "stream",
     "text": [
      "Counter({0: 40852, 1: 1300})\n"
     ]
    }
   ],
   "source": [
    "### Oversampling\n",
    "\n",
    "from collections import Counter\n",
    "\n",
    "print(Counter(y_train))\n",
    "\n"
   ]
  },
  {
   "cell_type": "code",
   "execution_count": 31,
   "id": "69b780e1",
   "metadata": {},
   "outputs": [],
   "source": [
    " # ### RandomOverSampler\n",
    "\n",
    " # Resample the training data with the RandomOversampler\n",
    " from imblearn.over_sampling import RandomOverSampler"
   ]
  },
  {
   "cell_type": "code",
   "execution_count": 32,
   "id": "580cd105",
   "metadata": {},
   "outputs": [
    {
     "name": "stdout",
     "output_type": "stream",
     "text": [
      "Counter({0: 40852, 1: 40852})\n"
     ]
    }
   ],
   "source": [
    " # Instantiate the model\n",
    " ros = RandomOverSampler(random_state=1)\n",
    " # Resample the targets\n",
    " X_resampled, y_resampled = ros.fit_resample(X_train_scaled, y_train)\n",
    " print(Counter(y_resampled))\n",
    "\n"
   ]
  },
  {
   "cell_type": "code",
   "execution_count": 34,
   "id": "026ba47d",
   "metadata": {},
   "outputs": [],
   "source": [
    "# Train the Logistic Regression model using the resampled data\n",
    "logreg = LogisticRegression(solver='lbfgs', max_iter=200)\n",
    "\n"
   ]
  },
  {
   "cell_type": "code",
   "execution_count": 38,
   "id": "0097ce8d",
   "metadata": {},
   "outputs": [
    {
     "data": {
      "text/html": [
       "<style>#sk-container-id-3 {color: black;background-color: white;}#sk-container-id-3 pre{padding: 0;}#sk-container-id-3 div.sk-toggleable {background-color: white;}#sk-container-id-3 label.sk-toggleable__label {cursor: pointer;display: block;width: 100%;margin-bottom: 0;padding: 0.3em;box-sizing: border-box;text-align: center;}#sk-container-id-3 label.sk-toggleable__label-arrow:before {content: \"▸\";float: left;margin-right: 0.25em;color: #696969;}#sk-container-id-3 label.sk-toggleable__label-arrow:hover:before {color: black;}#sk-container-id-3 div.sk-estimator:hover label.sk-toggleable__label-arrow:before {color: black;}#sk-container-id-3 div.sk-toggleable__content {max-height: 0;max-width: 0;overflow: hidden;text-align: left;background-color: #f0f8ff;}#sk-container-id-3 div.sk-toggleable__content pre {margin: 0.2em;color: black;border-radius: 0.25em;background-color: #f0f8ff;}#sk-container-id-3 input.sk-toggleable__control:checked~div.sk-toggleable__content {max-height: 200px;max-width: 100%;overflow: auto;}#sk-container-id-3 input.sk-toggleable__control:checked~label.sk-toggleable__label-arrow:before {content: \"▾\";}#sk-container-id-3 div.sk-estimator input.sk-toggleable__control:checked~label.sk-toggleable__label {background-color: #d4ebff;}#sk-container-id-3 div.sk-label input.sk-toggleable__control:checked~label.sk-toggleable__label {background-color: #d4ebff;}#sk-container-id-3 input.sk-hidden--visually {border: 0;clip: rect(1px 1px 1px 1px);clip: rect(1px, 1px, 1px, 1px);height: 1px;margin: -1px;overflow: hidden;padding: 0;position: absolute;width: 1px;}#sk-container-id-3 div.sk-estimator {font-family: monospace;background-color: #f0f8ff;border: 1px dotted black;border-radius: 0.25em;box-sizing: border-box;margin-bottom: 0.5em;}#sk-container-id-3 div.sk-estimator:hover {background-color: #d4ebff;}#sk-container-id-3 div.sk-parallel-item::after {content: \"\";width: 100%;border-bottom: 1px solid gray;flex-grow: 1;}#sk-container-id-3 div.sk-label:hover label.sk-toggleable__label {background-color: #d4ebff;}#sk-container-id-3 div.sk-serial::before {content: \"\";position: absolute;border-left: 1px solid gray;box-sizing: border-box;top: 0;bottom: 0;left: 50%;z-index: 0;}#sk-container-id-3 div.sk-serial {display: flex;flex-direction: column;align-items: center;background-color: white;padding-right: 0.2em;padding-left: 0.2em;position: relative;}#sk-container-id-3 div.sk-item {position: relative;z-index: 1;}#sk-container-id-3 div.sk-parallel {display: flex;align-items: stretch;justify-content: center;background-color: white;position: relative;}#sk-container-id-3 div.sk-item::before, #sk-container-id-3 div.sk-parallel-item::before {content: \"\";position: absolute;border-left: 1px solid gray;box-sizing: border-box;top: 0;bottom: 0;left: 50%;z-index: -1;}#sk-container-id-3 div.sk-parallel-item {display: flex;flex-direction: column;z-index: 1;position: relative;background-color: white;}#sk-container-id-3 div.sk-parallel-item:first-child::after {align-self: flex-end;width: 50%;}#sk-container-id-3 div.sk-parallel-item:last-child::after {align-self: flex-start;width: 50%;}#sk-container-id-3 div.sk-parallel-item:only-child::after {width: 0;}#sk-container-id-3 div.sk-dashed-wrapped {border: 1px dashed gray;margin: 0 0.4em 0.5em 0.4em;box-sizing: border-box;padding-bottom: 0.4em;background-color: white;}#sk-container-id-3 div.sk-label label {font-family: monospace;font-weight: bold;display: inline-block;line-height: 1.2em;}#sk-container-id-3 div.sk-label-container {text-align: center;}#sk-container-id-3 div.sk-container {/* jupyter's `normalize.less` sets `[hidden] { display: none; }` but bootstrap.min.css set `[hidden] { display: none !important; }` so we also need the `!important` here to be able to override the default hidden behavior on the sphinx rendered scikit-learn.org. See: https://github.com/scikit-learn/scikit-learn/issues/21755 */display: inline-block !important;position: relative;}#sk-container-id-3 div.sk-text-repr-fallback {display: none;}</style><div id=\"sk-container-id-3\" class=\"sk-top-container\"><div class=\"sk-text-repr-fallback\"><pre>LogisticRegression(max_iter=200)</pre><b>In a Jupyter environment, please rerun this cell to show the HTML representation or trust the notebook. <br />On GitHub, the HTML representation is unable to render, please try loading this page with nbviewer.org.</b></div><div class=\"sk-container\" hidden><div class=\"sk-item\"><div class=\"sk-estimator sk-toggleable\"><input class=\"sk-toggleable__control sk-hidden--visually\" id=\"sk-estimator-id-3\" type=\"checkbox\" checked><label for=\"sk-estimator-id-3\" class=\"sk-toggleable__label sk-toggleable__label-arrow\">LogisticRegression</label><div class=\"sk-toggleable__content\"><pre>LogisticRegression(max_iter=200)</pre></div></div></div></div></div>"
      ],
      "text/plain": [
       "LogisticRegression(max_iter=200)"
      ]
     },
     "execution_count": 38,
     "metadata": {},
     "output_type": "execute_result"
    }
   ],
   "source": [
    "# Fit\n",
    "logreg.fit(X_resampled, y_resampled)\n",
    "\n"
   ]
  },
  {
   "cell_type": "code",
   "execution_count": 39,
   "id": "8ebf4eae",
   "metadata": {},
   "outputs": [
    {
     "name": "stdout",
     "output_type": "stream",
     "text": [
      " Logistic regression model accuracy: 0.539\n"
     ]
    }
   ],
   "source": [
    "# Evaluate the model\n",
    "y_pred = logreg.predict(X_test_scaled)\n",
    "print(f\" Logistic regression model accuracy: {accuracy_score(y_test, y_pred):.3f}\")\n",
    "\n"
   ]
  },
  {
   "cell_type": "code",
   "execution_count": 40,
   "id": "a956f231",
   "metadata": {},
   "outputs": [],
   "source": [
    " # Calculating the confusion matrix.\n",
    " cm = confusion_matrix(y_test, y_pred)\n",
    "\n"
   ]
  },
  {
   "cell_type": "code",
   "execution_count": 43,
   "id": "385c5c73",
   "metadata": {},
   "outputs": [
    {
     "name": "stdout",
     "output_type": "stream",
     "text": [
      "Classification Report\n",
      "              precision    recall  f1-score   support\n",
      "\n",
      "           0       0.97      0.54      0.69     13617\n",
      "           1       0.03      0.49      0.06       434\n",
      "\n",
      "    accuracy                           0.54     14051\n",
      "   macro avg       0.50      0.52      0.38     14051\n",
      "weighted avg       0.94      0.54      0.68     14051\n",
      "\n"
     ]
    }
   ],
   "source": [
    "# Create a DataFrame from the confusion matrix.\n",
    "cm_df = pd.DataFrame(\n",
    "     cm, index=[\"Actual 0\", \"Actual 1\"], columns=[\"Predicted 0\", \"Predicted 1\"])\n",
    "\n",
    "cm_df\n",
    "\n",
    "print(\"Classification Report\")\n",
    "print(classification_report(y_test, y_pred))\n",
    "\n",
    "\n"
   ]
  },
  {
   "cell_type": "code",
   "execution_count": 46,
   "id": "30645824",
   "metadata": {},
   "outputs": [
    {
     "name": "stdout",
     "output_type": "stream",
     "text": [
      "Counter({0: 33559, 1: 28742})\n"
     ]
    }
   ],
   "source": [
    "# ### SMOTEENN\n",
    "\n",
    "# Resample the training data with SMOTEENN\n",
    "from imblearn.combine import SMOTEENN\n",
    "smoteenn = SMOTEENN(random_state=1)\n",
    "X_resampled, y_resampled = smoteenn.fit_resample(X_train_scaled, y_train)\n",
    "print(Counter(y_resampled))\n",
    "\n"
   ]
  },
  {
   "cell_type": "code",
   "execution_count": 56,
   "id": "ec5a26fd",
   "metadata": {},
   "outputs": [
    {
     "name": "stdout",
     "output_type": "stream",
     "text": [
      "0.8137499110383603\n"
     ]
    }
   ],
   "source": [
    " # Train the Logistic Regression model using the resampled data\n",
    " logreg.fit(X_resampled, y_resampled)\n",
    " # Calculated the balanced accuracy score\n",
    " y_pred = logreg.predict(X_test_scaled)\n",
    " from sklearn.metrics import balanced_accuracy_score\n",
    " print(accuracy_score(y_test, y_pred))"
   ]
  },
  {
   "cell_type": "code",
   "execution_count": 49,
   "id": "ac29dff1",
   "metadata": {},
   "outputs": [],
   "source": [
    "\n",
    " # Calculating the confusion matrix.\n",
    " cm = confusion_matrix(y_test, y_pred)\n",
    "\n"
   ]
  },
  {
   "cell_type": "code",
   "execution_count": 66,
   "id": "93f2036f",
   "metadata": {},
   "outputs": [
    {
     "data": {
      "text/html": [
       "<div>\n",
       "<style scoped>\n",
       "    .dataframe tbody tr th:only-of-type {\n",
       "        vertical-align: middle;\n",
       "    }\n",
       "\n",
       "    .dataframe tbody tr th {\n",
       "        vertical-align: top;\n",
       "    }\n",
       "\n",
       "    .dataframe thead th {\n",
       "        text-align: right;\n",
       "    }\n",
       "</style>\n",
       "<table border=\"1\" class=\"dataframe\">\n",
       "  <thead>\n",
       "    <tr style=\"text-align: right;\">\n",
       "      <th></th>\n",
       "      <th>Predicted 0</th>\n",
       "      <th>Predicted 1</th>\n",
       "    </tr>\n",
       "  </thead>\n",
       "  <tbody>\n",
       "    <tr>\n",
       "      <th>Actual 0</th>\n",
       "      <td>11362</td>\n",
       "      <td>2255</td>\n",
       "    </tr>\n",
       "    <tr>\n",
       "      <th>Actual 1</th>\n",
       "      <td>362</td>\n",
       "      <td>72</td>\n",
       "    </tr>\n",
       "  </tbody>\n",
       "</table>\n",
       "</div>"
      ],
      "text/plain": [
       "          Predicted 0  Predicted 1\n",
       "Actual 0        11362         2255\n",
       "Actual 1          362           72"
      ]
     },
     "execution_count": 66,
     "metadata": {},
     "output_type": "execute_result"
    }
   ],
   "source": [
    "# Create a DataFrame from the confusion matrix.\n",
    "cm_df = pd.DataFrame(\n",
    "     cm, index=[\"Actual 0\", \"Actual 1\"], columns=[\"Predicted 0\", \"Predicted 1\"])\n",
    "\n",
    "cm_df"
   ]
  },
  {
   "cell_type": "code",
   "execution_count": null,
   "id": "d9284d65",
   "metadata": {},
   "outputs": [],
   "source": []
  },
  {
   "cell_type": "code",
   "execution_count": 65,
   "id": "9e1de605",
   "metadata": {},
   "outputs": [
    {
     "name": "stdout",
     "output_type": "stream",
     "text": [
      "Classification Report\n",
      "              precision    recall  f1-score   support\n",
      "\n",
      "           0       0.97      0.83      0.90     13617\n",
      "           1       0.03      0.17      0.05       434\n",
      "\n",
      "    accuracy                           0.81     14051\n",
      "   macro avg       0.50      0.50      0.47     14051\n",
      "weighted avg       0.94      0.81      0.87     14051\n",
      "\n"
     ]
    }
   ],
   "source": [
    "print(\"Classification Report\")\n",
    "\n",
    "print(classification_report(y_test, y_pred))"
   ]
  },
  {
   "cell_type": "code",
   "execution_count": null,
   "id": "8411ddec",
   "metadata": {},
   "outputs": [],
   "source": []
  },
  {
   "cell_type": "code",
   "execution_count": 3,
   "id": "6b684cdd",
   "metadata": {},
   "outputs": [
    {
     "ename": "IndentationError",
     "evalue": "unexpected indent (2860720890.py, line 11)",
     "output_type": "error",
     "traceback": [
      "\u001b[0;36m  Input \u001b[0;32mIn [3]\u001b[0;36m\u001b[0m\n\u001b[0;31m    print(mock_df.columns)\u001b[0m\n\u001b[0m    ^\u001b[0m\n\u001b[0;31mIndentationError\u001b[0m\u001b[0;31m:\u001b[0m unexpected indent\n"
     ]
    }
   ],
   "source": [
    "\n",
    "\n",
    " \n",
    "\n",
    "\n",
    " \n",
    "\n",
    "\n",
    " # \n",
    "\n",
    "\n",
    "\n",
    " \n",
    "  \n",
    "\n",
    " \n",
    " \n",
    "\n"
   ]
  },
  {
   "cell_type": "code",
   "execution_count": null,
   "id": "b67366d6",
   "metadata": {},
   "outputs": [],
   "source": []
  },
  {
   "cell_type": "code",
   "execution_count": null,
   "id": "6b2ca424",
   "metadata": {},
   "outputs": [],
   "source": []
  },
  {
   "cell_type": "code",
   "execution_count": null,
   "id": "b82569a9",
   "metadata": {},
   "outputs": [],
   "source": []
  }
 ],
 "metadata": {
  "kernelspec": {
   "display_name": "PythonData",
   "language": "python",
   "name": "pythondata"
  },
  "language_info": {
   "codemirror_mode": {
    "name": "ipython",
    "version": 3
   },
   "file_extension": ".py",
   "mimetype": "text/x-python",
   "name": "python",
   "nbconvert_exporter": "python",
   "pygments_lexer": "ipython3",
   "version": "3.9.12"
  }
 },
 "nbformat": 4,
 "nbformat_minor": 5
}
